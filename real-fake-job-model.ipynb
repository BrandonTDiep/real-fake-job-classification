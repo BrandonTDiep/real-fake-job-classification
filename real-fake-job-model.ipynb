{
 "cells": [
  {
   "cell_type": "code",
   "execution_count": 3,
   "id": "bbe4771f",
   "metadata": {
    "scrolled": true
   },
   "outputs": [],
   "source": [
    "# data analysis imports\n",
    "import pandas as pd\n",
    "import seaborn as sns\n",
    "import matplotlib.pyplot as plt\n",
    "\n",
    "from sklearn.feature_extraction.text import TfidfVectorizer\n",
    "from sklearn.model_selection import train_test_split\n",
    "from sklearn.linear_model import LogisticRegression\n",
    "from sklearn.metrics import confusion_matrix, ConfusionMatrixDisplay\n",
    "from sklearn.metrics import precision_score, recall_score, f1_score, accuracy_score, classification_report\n",
    "\n",
    "# import xgboost as xgb\n",
    "# from xgboost import XGBClassifier\n",
    "\n",
    "# preprocessing imports\n",
    "import nltk\n",
    "# nltk.download()\n",
    "import string\n",
    "from nltk.corpus import stopwords\n",
    "from nltk.tokenize import word_tokenize\n",
    "from nltk.stem import WordNetLemmatizer\n",
    "\n",
    "import imblearn\n",
    "from imblearn.over_sampling import SMOTE\n",
    "\n",
    "# read the fake job postings dataset\n",
    "df = pd.read_csv('fake_job_postings.csv')"
   ]
  },
  {
   "cell_type": "code",
   "execution_count": 4,
   "id": "f285d23b",
   "metadata": {},
   "outputs": [
    {
     "data": {
      "text/html": [
       "<div>\n",
       "<style scoped>\n",
       "    .dataframe tbody tr th:only-of-type {\n",
       "        vertical-align: middle;\n",
       "    }\n",
       "\n",
       "    .dataframe tbody tr th {\n",
       "        vertical-align: top;\n",
       "    }\n",
       "\n",
       "    .dataframe thead th {\n",
       "        text-align: right;\n",
       "    }\n",
       "</style>\n",
       "<table border=\"1\" class=\"dataframe\">\n",
       "  <thead>\n",
       "    <tr style=\"text-align: right;\">\n",
       "      <th></th>\n",
       "      <th>job_id</th>\n",
       "      <th>title</th>\n",
       "      <th>location</th>\n",
       "      <th>department</th>\n",
       "      <th>salary_range</th>\n",
       "      <th>company_profile</th>\n",
       "      <th>description</th>\n",
       "      <th>requirements</th>\n",
       "      <th>benefits</th>\n",
       "      <th>telecommuting</th>\n",
       "      <th>has_company_logo</th>\n",
       "      <th>has_questions</th>\n",
       "      <th>employment_type</th>\n",
       "      <th>required_experience</th>\n",
       "      <th>required_education</th>\n",
       "      <th>industry</th>\n",
       "      <th>function</th>\n",
       "      <th>fraudulent</th>\n",
       "    </tr>\n",
       "  </thead>\n",
       "  <tbody>\n",
       "    <tr>\n",
       "      <th>0</th>\n",
       "      <td>1</td>\n",
       "      <td>Marketing Intern</td>\n",
       "      <td>US, NY, New York</td>\n",
       "      <td>Marketing</td>\n",
       "      <td>NaN</td>\n",
       "      <td>We're Food52, and we've created a groundbreaki...</td>\n",
       "      <td>Food52, a fast-growing, James Beard Award-winn...</td>\n",
       "      <td>Experience with content management systems a m...</td>\n",
       "      <td>NaN</td>\n",
       "      <td>0</td>\n",
       "      <td>1</td>\n",
       "      <td>0</td>\n",
       "      <td>Other</td>\n",
       "      <td>Internship</td>\n",
       "      <td>NaN</td>\n",
       "      <td>NaN</td>\n",
       "      <td>Marketing</td>\n",
       "      <td>0</td>\n",
       "    </tr>\n",
       "    <tr>\n",
       "      <th>1</th>\n",
       "      <td>2</td>\n",
       "      <td>Customer Service - Cloud Video Production</td>\n",
       "      <td>NZ, , Auckland</td>\n",
       "      <td>Success</td>\n",
       "      <td>NaN</td>\n",
       "      <td>90 Seconds, the worlds Cloud Video Production ...</td>\n",
       "      <td>Organised - Focused - Vibrant - Awesome!Do you...</td>\n",
       "      <td>What we expect from you:Your key responsibilit...</td>\n",
       "      <td>What you will get from usThrough being part of...</td>\n",
       "      <td>0</td>\n",
       "      <td>1</td>\n",
       "      <td>0</td>\n",
       "      <td>Full-time</td>\n",
       "      <td>Not Applicable</td>\n",
       "      <td>NaN</td>\n",
       "      <td>Marketing and Advertising</td>\n",
       "      <td>Customer Service</td>\n",
       "      <td>0</td>\n",
       "    </tr>\n",
       "    <tr>\n",
       "      <th>2</th>\n",
       "      <td>3</td>\n",
       "      <td>Commissioning Machinery Assistant (CMA)</td>\n",
       "      <td>US, IA, Wever</td>\n",
       "      <td>NaN</td>\n",
       "      <td>NaN</td>\n",
       "      <td>Valor Services provides Workforce Solutions th...</td>\n",
       "      <td>Our client, located in Houston, is actively se...</td>\n",
       "      <td>Implement pre-commissioning and commissioning ...</td>\n",
       "      <td>NaN</td>\n",
       "      <td>0</td>\n",
       "      <td>1</td>\n",
       "      <td>0</td>\n",
       "      <td>NaN</td>\n",
       "      <td>NaN</td>\n",
       "      <td>NaN</td>\n",
       "      <td>NaN</td>\n",
       "      <td>NaN</td>\n",
       "      <td>0</td>\n",
       "    </tr>\n",
       "    <tr>\n",
       "      <th>3</th>\n",
       "      <td>4</td>\n",
       "      <td>Account Executive - Washington DC</td>\n",
       "      <td>US, DC, Washington</td>\n",
       "      <td>Sales</td>\n",
       "      <td>NaN</td>\n",
       "      <td>Our passion for improving quality of life thro...</td>\n",
       "      <td>THE COMPANY: ESRI – Environmental Systems Rese...</td>\n",
       "      <td>EDUCATION: Bachelor’s or Master’s in GIS, busi...</td>\n",
       "      <td>Our culture is anything but corporate—we have ...</td>\n",
       "      <td>0</td>\n",
       "      <td>1</td>\n",
       "      <td>0</td>\n",
       "      <td>Full-time</td>\n",
       "      <td>Mid-Senior level</td>\n",
       "      <td>Bachelor's Degree</td>\n",
       "      <td>Computer Software</td>\n",
       "      <td>Sales</td>\n",
       "      <td>0</td>\n",
       "    </tr>\n",
       "    <tr>\n",
       "      <th>4</th>\n",
       "      <td>5</td>\n",
       "      <td>Bill Review Manager</td>\n",
       "      <td>US, FL, Fort Worth</td>\n",
       "      <td>NaN</td>\n",
       "      <td>NaN</td>\n",
       "      <td>SpotSource Solutions LLC is a Global Human Cap...</td>\n",
       "      <td>JOB TITLE: Itemization Review ManagerLOCATION:...</td>\n",
       "      <td>QUALIFICATIONS:RN license in the State of Texa...</td>\n",
       "      <td>Full Benefits Offered</td>\n",
       "      <td>0</td>\n",
       "      <td>1</td>\n",
       "      <td>1</td>\n",
       "      <td>Full-time</td>\n",
       "      <td>Mid-Senior level</td>\n",
       "      <td>Bachelor's Degree</td>\n",
       "      <td>Hospital &amp; Health Care</td>\n",
       "      <td>Health Care Provider</td>\n",
       "      <td>0</td>\n",
       "    </tr>\n",
       "  </tbody>\n",
       "</table>\n",
       "</div>"
      ],
      "text/plain": [
       "   job_id                                      title            location  \\\n",
       "0       1                           Marketing Intern    US, NY, New York   \n",
       "1       2  Customer Service - Cloud Video Production      NZ, , Auckland   \n",
       "2       3    Commissioning Machinery Assistant (CMA)       US, IA, Wever   \n",
       "3       4          Account Executive - Washington DC  US, DC, Washington   \n",
       "4       5                        Bill Review Manager  US, FL, Fort Worth   \n",
       "\n",
       "  department salary_range                                    company_profile  \\\n",
       "0  Marketing          NaN  We're Food52, and we've created a groundbreaki...   \n",
       "1    Success          NaN  90 Seconds, the worlds Cloud Video Production ...   \n",
       "2        NaN          NaN  Valor Services provides Workforce Solutions th...   \n",
       "3      Sales          NaN  Our passion for improving quality of life thro...   \n",
       "4        NaN          NaN  SpotSource Solutions LLC is a Global Human Cap...   \n",
       "\n",
       "                                         description  \\\n",
       "0  Food52, a fast-growing, James Beard Award-winn...   \n",
       "1  Organised - Focused - Vibrant - Awesome!Do you...   \n",
       "2  Our client, located in Houston, is actively se...   \n",
       "3  THE COMPANY: ESRI – Environmental Systems Rese...   \n",
       "4  JOB TITLE: Itemization Review ManagerLOCATION:...   \n",
       "\n",
       "                                        requirements  \\\n",
       "0  Experience with content management systems a m...   \n",
       "1  What we expect from you:Your key responsibilit...   \n",
       "2  Implement pre-commissioning and commissioning ...   \n",
       "3  EDUCATION: Bachelor’s or Master’s in GIS, busi...   \n",
       "4  QUALIFICATIONS:RN license in the State of Texa...   \n",
       "\n",
       "                                            benefits  telecommuting  \\\n",
       "0                                                NaN              0   \n",
       "1  What you will get from usThrough being part of...              0   \n",
       "2                                                NaN              0   \n",
       "3  Our culture is anything but corporate—we have ...              0   \n",
       "4                              Full Benefits Offered              0   \n",
       "\n",
       "   has_company_logo  has_questions employment_type required_experience  \\\n",
       "0                 1              0           Other          Internship   \n",
       "1                 1              0       Full-time      Not Applicable   \n",
       "2                 1              0             NaN                 NaN   \n",
       "3                 1              0       Full-time    Mid-Senior level   \n",
       "4                 1              1       Full-time    Mid-Senior level   \n",
       "\n",
       "  required_education                   industry              function  \\\n",
       "0                NaN                        NaN             Marketing   \n",
       "1                NaN  Marketing and Advertising      Customer Service   \n",
       "2                NaN                        NaN                   NaN   \n",
       "3  Bachelor's Degree          Computer Software                 Sales   \n",
       "4  Bachelor's Degree     Hospital & Health Care  Health Care Provider   \n",
       "\n",
       "   fraudulent  \n",
       "0           0  \n",
       "1           0  \n",
       "2           0  \n",
       "3           0  \n",
       "4           0  "
      ]
     },
     "execution_count": 4,
     "metadata": {},
     "output_type": "execute_result"
    }
   ],
   "source": [
    "# returns the first 5 rows\n",
    "df.head()"
   ]
  },
  {
   "cell_type": "code",
   "execution_count": 5,
   "id": "1a9b3d02",
   "metadata": {},
   "outputs": [
    {
     "data": {
      "text/html": [
       "<div>\n",
       "<style scoped>\n",
       "    .dataframe tbody tr th:only-of-type {\n",
       "        vertical-align: middle;\n",
       "    }\n",
       "\n",
       "    .dataframe tbody tr th {\n",
       "        vertical-align: top;\n",
       "    }\n",
       "\n",
       "    .dataframe thead th {\n",
       "        text-align: right;\n",
       "    }\n",
       "</style>\n",
       "<table border=\"1\" class=\"dataframe\">\n",
       "  <thead>\n",
       "    <tr style=\"text-align: right;\">\n",
       "      <th></th>\n",
       "      <th>job_id</th>\n",
       "      <th>telecommuting</th>\n",
       "      <th>has_company_logo</th>\n",
       "      <th>has_questions</th>\n",
       "      <th>fraudulent</th>\n",
       "    </tr>\n",
       "  </thead>\n",
       "  <tbody>\n",
       "    <tr>\n",
       "      <th>count</th>\n",
       "      <td>17880.000000</td>\n",
       "      <td>17880.000000</td>\n",
       "      <td>17880.000000</td>\n",
       "      <td>17880.000000</td>\n",
       "      <td>17880.000000</td>\n",
       "    </tr>\n",
       "    <tr>\n",
       "      <th>mean</th>\n",
       "      <td>8940.500000</td>\n",
       "      <td>0.042897</td>\n",
       "      <td>0.795302</td>\n",
       "      <td>0.491723</td>\n",
       "      <td>0.048434</td>\n",
       "    </tr>\n",
       "    <tr>\n",
       "      <th>std</th>\n",
       "      <td>5161.655742</td>\n",
       "      <td>0.202631</td>\n",
       "      <td>0.403492</td>\n",
       "      <td>0.499945</td>\n",
       "      <td>0.214688</td>\n",
       "    </tr>\n",
       "    <tr>\n",
       "      <th>min</th>\n",
       "      <td>1.000000</td>\n",
       "      <td>0.000000</td>\n",
       "      <td>0.000000</td>\n",
       "      <td>0.000000</td>\n",
       "      <td>0.000000</td>\n",
       "    </tr>\n",
       "    <tr>\n",
       "      <th>25%</th>\n",
       "      <td>4470.750000</td>\n",
       "      <td>0.000000</td>\n",
       "      <td>1.000000</td>\n",
       "      <td>0.000000</td>\n",
       "      <td>0.000000</td>\n",
       "    </tr>\n",
       "    <tr>\n",
       "      <th>50%</th>\n",
       "      <td>8940.500000</td>\n",
       "      <td>0.000000</td>\n",
       "      <td>1.000000</td>\n",
       "      <td>0.000000</td>\n",
       "      <td>0.000000</td>\n",
       "    </tr>\n",
       "    <tr>\n",
       "      <th>75%</th>\n",
       "      <td>13410.250000</td>\n",
       "      <td>0.000000</td>\n",
       "      <td>1.000000</td>\n",
       "      <td>1.000000</td>\n",
       "      <td>0.000000</td>\n",
       "    </tr>\n",
       "    <tr>\n",
       "      <th>max</th>\n",
       "      <td>17880.000000</td>\n",
       "      <td>1.000000</td>\n",
       "      <td>1.000000</td>\n",
       "      <td>1.000000</td>\n",
       "      <td>1.000000</td>\n",
       "    </tr>\n",
       "  </tbody>\n",
       "</table>\n",
       "</div>"
      ],
      "text/plain": [
       "             job_id  telecommuting  has_company_logo  has_questions  \\\n",
       "count  17880.000000   17880.000000      17880.000000   17880.000000   \n",
       "mean    8940.500000       0.042897          0.795302       0.491723   \n",
       "std     5161.655742       0.202631          0.403492       0.499945   \n",
       "min        1.000000       0.000000          0.000000       0.000000   \n",
       "25%     4470.750000       0.000000          1.000000       0.000000   \n",
       "50%     8940.500000       0.000000          1.000000       0.000000   \n",
       "75%    13410.250000       0.000000          1.000000       1.000000   \n",
       "max    17880.000000       1.000000          1.000000       1.000000   \n",
       "\n",
       "         fraudulent  \n",
       "count  17880.000000  \n",
       "mean       0.048434  \n",
       "std        0.214688  \n",
       "min        0.000000  \n",
       "25%        0.000000  \n",
       "50%        0.000000  \n",
       "75%        0.000000  \n",
       "max        1.000000  "
      ]
     },
     "execution_count": 5,
     "metadata": {},
     "output_type": "execute_result"
    }
   ],
   "source": [
    "# describes the numerical features of our dataset\n",
    "df.describe()"
   ]
  },
  {
   "cell_type": "code",
   "execution_count": 6,
   "id": "3cf46a3d",
   "metadata": {},
   "outputs": [
    {
     "data": {
      "text/plain": [
       "job_id                     0\n",
       "title                      0\n",
       "location                 346\n",
       "department             11547\n",
       "salary_range           15012\n",
       "company_profile         3308\n",
       "description                1\n",
       "requirements            2696\n",
       "benefits                7212\n",
       "telecommuting              0\n",
       "has_company_logo           0\n",
       "has_questions              0\n",
       "employment_type         3471\n",
       "required_experience     7050\n",
       "required_education      8105\n",
       "industry                4903\n",
       "function                6455\n",
       "fraudulent                 0\n",
       "dtype: int64"
      ]
     },
     "execution_count": 6,
     "metadata": {},
     "output_type": "execute_result"
    }
   ],
   "source": [
    "# check for features where missing values are high\n",
    "# note: we see that salary_range has significant number of NaN want to remove that, otherwise it will create noise\n",
    "df.isna().sum()"
   ]
  },
  {
   "cell_type": "code",
   "execution_count": 7,
   "id": "1b3ccda6",
   "metadata": {},
   "outputs": [
    {
     "data": {
      "text/plain": [
       "np.int64(0)"
      ]
     },
     "execution_count": 7,
     "metadata": {},
     "output_type": "execute_result"
    }
   ],
   "source": [
    "# check for duplicates\n",
    "# no duplicates, so no need to handle them\n",
    "df.duplicated().sum()"
   ]
  },
  {
   "cell_type": "code",
   "execution_count": 15,
   "id": "255ad103",
   "metadata": {},
   "outputs": [
    {
     "name": "stdout",
     "output_type": "stream",
     "text": [
      "Counts:\n",
      " fraudulent\n",
      "0    17014\n",
      "1      866\n",
      "Name: count, dtype: int64\n"
     ]
    },
    {
     "data": {
      "image/png": "[encoded data removed]",
      "text/plain": [
       "<Figure size 640x480 with 1 Axes>"
      ]
     },
     "metadata": {},
     "output_type": "display_data"
    }
   ],
   "source": [
    "# plot bar chat for rows that are fraudulent\n",
    "# dataset is imbalanced, will fix soon\n",
    "sns.countplot(x='fraudulent', data=df)\n",
    "counts = df['fraudulent'].value_counts()\n",
    "x_label = \"Fradulent (0 = No, 1 = Yes)\"\n",
    "plt.xlabel(x_label)\n",
    "\n",
    "print(\"Counts:\\n\", counts)"
   ]
  },
  {
   "cell_type": "code",
   "execution_count": 10,
   "id": "b7cb376b",
   "metadata": {},
   "outputs": [
    {
     "data": {
      "text/html": [
       "<div>\n",
       "<style scoped>\n",
       "    .dataframe tbody tr th:only-of-type {\n",
       "        vertical-align: middle;\n",
       "    }\n",
       "\n",
       "    .dataframe tbody tr th {\n",
       "        vertical-align: top;\n",
       "    }\n",
       "\n",
       "    .dataframe thead th {\n",
       "        text-align: right;\n",
       "    }\n",
       "</style>\n",
       "<table border=\"1\" class=\"dataframe\">\n",
       "  <thead>\n",
       "    <tr style=\"text-align: right;\">\n",
       "      <th></th>\n",
       "      <th>title</th>\n",
       "      <th>location</th>\n",
       "      <th>department</th>\n",
       "      <th>company_profile</th>\n",
       "      <th>description</th>\n",
       "      <th>requirements</th>\n",
       "      <th>benefits</th>\n",
       "      <th>telecommuting</th>\n",
       "      <th>has_company_logo</th>\n",
       "      <th>has_questions</th>\n",
       "      <th>employment_type</th>\n",
       "      <th>required_experience</th>\n",
       "      <th>required_education</th>\n",
       "      <th>industry</th>\n",
       "      <th>function</th>\n",
       "      <th>fraudulent</th>\n",
       "    </tr>\n",
       "  </thead>\n",
       "  <tbody>\n",
       "    <tr>\n",
       "      <th>0</th>\n",
       "      <td>Marketing Intern</td>\n",
       "      <td>US, NY, New York</td>\n",
       "      <td>Marketing</td>\n",
       "      <td>We're Food52, and we've created a groundbreaki...</td>\n",
       "      <td>Food52, a fast-growing, James Beard Award-winn...</td>\n",
       "      <td>Experience with content management systems a m...</td>\n",
       "      <td>unknown</td>\n",
       "      <td>0</td>\n",
       "      <td>1</td>\n",
       "      <td>0</td>\n",
       "      <td>Other</td>\n",
       "      <td>Internship</td>\n",
       "      <td>unknown</td>\n",
       "      <td>unknown</td>\n",
       "      <td>Marketing</td>\n",
       "      <td>0</td>\n",
       "    </tr>\n",
       "    <tr>\n",
       "      <th>1</th>\n",
       "      <td>Customer Service - Cloud Video Production</td>\n",
       "      <td>NZ, , Auckland</td>\n",
       "      <td>Success</td>\n",
       "      <td>90 Seconds, the worlds Cloud Video Production ...</td>\n",
       "      <td>Organised - Focused - Vibrant - Awesome!Do you...</td>\n",
       "      <td>What we expect from you:Your key responsibilit...</td>\n",
       "      <td>What you will get from usThrough being part of...</td>\n",
       "      <td>0</td>\n",
       "      <td>1</td>\n",
       "      <td>0</td>\n",
       "      <td>Full-time</td>\n",
       "      <td>Not Applicable</td>\n",
       "      <td>unknown</td>\n",
       "      <td>Marketing and Advertising</td>\n",
       "      <td>Customer Service</td>\n",
       "      <td>0</td>\n",
       "    </tr>\n",
       "    <tr>\n",
       "      <th>2</th>\n",
       "      <td>Commissioning Machinery Assistant (CMA)</td>\n",
       "      <td>US, IA, Wever</td>\n",
       "      <td>unknown</td>\n",
       "      <td>Valor Services provides Workforce Solutions th...</td>\n",
       "      <td>Our client, located in Houston, is actively se...</td>\n",
       "      <td>Implement pre-commissioning and commissioning ...</td>\n",
       "      <td>unknown</td>\n",
       "      <td>0</td>\n",
       "      <td>1</td>\n",
       "      <td>0</td>\n",
       "      <td>unknown</td>\n",
       "      <td>unknown</td>\n",
       "      <td>unknown</td>\n",
       "      <td>unknown</td>\n",
       "      <td>unknown</td>\n",
       "      <td>0</td>\n",
       "    </tr>\n",
       "    <tr>\n",
       "      <th>3</th>\n",
       "      <td>Account Executive - Washington DC</td>\n",
       "      <td>US, DC, Washington</td>\n",
       "      <td>Sales</td>\n",
       "      <td>Our passion for improving quality of life thro...</td>\n",
       "      <td>THE COMPANY: ESRI – Environmental Systems Rese...</td>\n",
       "      <td>EDUCATION: Bachelor’s or Master’s in GIS, busi...</td>\n",
       "      <td>Our culture is anything but corporate—we have ...</td>\n",
       "      <td>0</td>\n",
       "      <td>1</td>\n",
       "      <td>0</td>\n",
       "      <td>Full-time</td>\n",
       "      <td>Mid-Senior level</td>\n",
       "      <td>Bachelor's Degree</td>\n",
       "      <td>Computer Software</td>\n",
       "      <td>Sales</td>\n",
       "      <td>0</td>\n",
       "    </tr>\n",
       "    <tr>\n",
       "      <th>4</th>\n",
       "      <td>Bill Review Manager</td>\n",
       "      <td>US, FL, Fort Worth</td>\n",
       "      <td>unknown</td>\n",
       "      <td>SpotSource Solutions LLC is a Global Human Cap...</td>\n",
       "      <td>JOB TITLE: Itemization Review ManagerLOCATION:...</td>\n",
       "      <td>QUALIFICATIONS:RN license in the State of Texa...</td>\n",
       "      <td>Full Benefits Offered</td>\n",
       "      <td>0</td>\n",
       "      <td>1</td>\n",
       "      <td>1</td>\n",
       "      <td>Full-time</td>\n",
       "      <td>Mid-Senior level</td>\n",
       "      <td>Bachelor's Degree</td>\n",
       "      <td>Hospital &amp; Health Care</td>\n",
       "      <td>Health Care Provider</td>\n",
       "      <td>0</td>\n",
       "    </tr>\n",
       "  </tbody>\n",
       "</table>\n",
       "</div>"
      ],
      "text/plain": [
       "                                       title            location department  \\\n",
       "0                           Marketing Intern    US, NY, New York  Marketing   \n",
       "1  Customer Service - Cloud Video Production      NZ, , Auckland    Success   \n",
       "2    Commissioning Machinery Assistant (CMA)       US, IA, Wever    unknown   \n",
       "3          Account Executive - Washington DC  US, DC, Washington      Sales   \n",
       "4                        Bill Review Manager  US, FL, Fort Worth    unknown   \n",
       "\n",
       "                                     company_profile  \\\n",
       "0  We're Food52, and we've created a groundbreaki...   \n",
       "1  90 Seconds, the worlds Cloud Video Production ...   \n",
       "2  Valor Services provides Workforce Solutions th...   \n",
       "3  Our passion for improving quality of life thro...   \n",
       "4  SpotSource Solutions LLC is a Global Human Cap...   \n",
       "\n",
       "                                         description  \\\n",
       "0  Food52, a fast-growing, James Beard Award-winn...   \n",
       "1  Organised - Focused - Vibrant - Awesome!Do you...   \n",
       "2  Our client, located in Houston, is actively se...   \n",
       "3  THE COMPANY: ESRI – Environmental Systems Rese...   \n",
       "4  JOB TITLE: Itemization Review ManagerLOCATION:...   \n",
       "\n",
       "                                        requirements  \\\n",
       "0  Experience with content management systems a m...   \n",
       "1  What we expect from you:Your key responsibilit...   \n",
       "2  Implement pre-commissioning and commissioning ...   \n",
       "3  EDUCATION: Bachelor’s or Master’s in GIS, busi...   \n",
       "4  QUALIFICATIONS:RN license in the State of Texa...   \n",
       "\n",
       "                                            benefits  telecommuting  \\\n",
       "0                                            unknown              0   \n",
       "1  What you will get from usThrough being part of...              0   \n",
       "2                                            unknown              0   \n",
       "3  Our culture is anything but corporate—we have ...              0   \n",
       "4                              Full Benefits Offered              0   \n",
       "\n",
       "   has_company_logo  has_questions employment_type required_experience  \\\n",
       "0                 1              0           Other          Internship   \n",
       "1                 1              0       Full-time      Not Applicable   \n",
       "2                 1              0         unknown             unknown   \n",
       "3                 1              0       Full-time    Mid-Senior level   \n",
       "4                 1              1       Full-time    Mid-Senior level   \n",
       "\n",
       "  required_education                   industry              function  \\\n",
       "0            unknown                    unknown             Marketing   \n",
       "1            unknown  Marketing and Advertising      Customer Service   \n",
       "2            unknown                    unknown               unknown   \n",
       "3  Bachelor's Degree          Computer Software                 Sales   \n",
       "4  Bachelor's Degree     Hospital & Health Care  Health Care Provider   \n",
       "\n",
       "   fraudulent  \n",
       "0           0  \n",
       "1           0  \n",
       "2           0  \n",
       "3           0  \n",
       "4           0  "
      ]
     },
     "execution_count": 10,
     "metadata": {},
     "output_type": "execute_result"
    }
   ],
   "source": [
    "# (look at df.isna().sum() code above for reference)\n",
    "# drop job_id because it doesn't hold any value to our model, only serves a unique identifier\n",
    "# drop salary_range because it has a significant amount of missing values(NaN) which can affect model performance and complicate preprocessing with its noise\n",
    "columns = ['job_id', 'salary_range']\n",
    "\n",
    "for col in columns:\n",
    "    del df[col]\n",
    "\n",
    "# Fill the 'NaN' fields in our dataset to avoid errors when dealing with TF-IDF or our models\n",
    "df.fillna('unknown', inplace=True)\n",
    "df.head()"
   ]
  },
  {
   "cell_type": "code",
   "execution_count": 11,
   "id": "24abc5ab",
   "metadata": {},
   "outputs": [],
   "source": [
    "# generate stop words to clean our text\n",
    "stop_words = set(stopwords.words('english'))\n",
    "\n",
    "# add the punctuation list to the set of stop words\n",
    "punctuation = list(string.punctuation)\n",
    "stop_words.update(punctuation)\n",
    "\n",
    "# initialize our lemmatizer\n",
    "lemmatizer = WordNetLemmatizer()"
   ]
  },
  {
   "cell_type": "code",
   "execution_count": 12,
   "id": "a7315e0a",
   "metadata": {},
   "outputs": [],
   "source": [
    "# combine the columns/features for TF-IDF to predict fraudulent\n",
    "df['text'] = df['title'] + \" \" + df['location'] + \" \" + df['department'] + \" \" + df['company_profile'] + \" \" + df['description'] + \" \" + df['requirements'] + \" \" + df['benefits'] + \" \" + df['employment_type'] + \" \" + df['required_experience'] + \" \" +df['required_education'] + \" \" + df['industry'] + \" \" + df['function']\n",
    "\n",
    "# reduce dataset dimensionality \n",
    "del_column = ['title', 'location', 'department', 'company_profile', 'description', 'requirements', 'benefits', 'employment_type', 'required_experience', 'required_education', 'industry', 'function']\n",
    "\n",
    "# delete the columns/features\n",
    "for col in del_column: \n",
    "    del df[col]"
   ]
  },
  {
   "cell_type": "code",
   "execution_count": 16,
   "id": "41cbe45a",
   "metadata": {},
   "outputs": [],
   "source": [
    "def preprocess_text(text):\n",
    "    '''\n",
    "    Uses stopwords and lemmatizing to clean the text\n",
    "     \n",
    "    Parameters\n",
    "    ----------\n",
    "    text: the combined text of all our features\n",
    "    '''\n",
    "\n",
    "    # tokenize the text\n",
    "    tokens = word_tokenize(text.lower())\n",
    "    # Remove stop words and non-alphabetic tokens and lemmantize\n",
    "    tokens = [lemmatizer.lemmatize(token) for token in tokens if token.isalpha() and token not in stop_words]\n",
    "\n",
    "    return ' '.join(tokens)\n",
    "\n",
    "# apply preprocessing and add new ['text_processed] feature\n",
    "df['text_processed'] = df['text'].apply(preprocess_text)"
   ]
  },
  {
   "cell_type": "code",
   "execution_count": null,
   "id": "736a0591",
   "metadata": {},
   "outputs": [
    {
     "data": {
      "text/html": [
       "<div>\n",
       "<style scoped>\n",
       "    .dataframe tbody tr th:only-of-type {\n",
       "        vertical-align: middle;\n",
       "    }\n",
       "\n",
       "    .dataframe tbody tr th {\n",
       "        vertical-align: top;\n",
       "    }\n",
       "\n",
       "    .dataframe thead th {\n",
       "        text-align: right;\n",
       "    }\n",
       "</style>\n",
       "<table border=\"1\" class=\"dataframe\">\n",
       "  <thead>\n",
       "    <tr style=\"text-align: right;\">\n",
       "      <th></th>\n",
       "      <th>telecommuting</th>\n",
       "      <th>has_company_logo</th>\n",
       "      <th>has_questions</th>\n",
       "      <th>fraudulent</th>\n",
       "      <th>text</th>\n",
       "      <th>text_processed</th>\n",
       "    </tr>\n",
       "  </thead>\n",
       "  <tbody>\n",
       "    <tr>\n",
       "      <th>0</th>\n",
       "      <td>0</td>\n",
       "      <td>1</td>\n",
       "      <td>0</td>\n",
       "      <td>0</td>\n",
       "      <td>Marketing Intern US, NY, New York Marketing We...</td>\n",
       "      <td>marketing intern u ny new york marketing creat...</td>\n",
       "    </tr>\n",
       "    <tr>\n",
       "      <th>1</th>\n",
       "      <td>0</td>\n",
       "      <td>1</td>\n",
       "      <td>0</td>\n",
       "      <td>0</td>\n",
       "      <td>Customer Service - Cloud Video Production NZ, ...</td>\n",
       "      <td>customer service cloud video production nz auc...</td>\n",
       "    </tr>\n",
       "    <tr>\n",
       "      <th>2</th>\n",
       "      <td>0</td>\n",
       "      <td>1</td>\n",
       "      <td>0</td>\n",
       "      <td>0</td>\n",
       "      <td>Commissioning Machinery Assistant (CMA) US, IA...</td>\n",
       "      <td>commissioning machinery assistant cma u ia wev...</td>\n",
       "    </tr>\n",
       "    <tr>\n",
       "      <th>3</th>\n",
       "      <td>0</td>\n",
       "      <td>1</td>\n",
       "      <td>0</td>\n",
       "      <td>0</td>\n",
       "      <td>Account Executive - Washington DC US, DC, Wash...</td>\n",
       "      <td>account executive washington dc u dc washingto...</td>\n",
       "    </tr>\n",
       "    <tr>\n",
       "      <th>4</th>\n",
       "      <td>0</td>\n",
       "      <td>1</td>\n",
       "      <td>1</td>\n",
       "      <td>0</td>\n",
       "      <td>Bill Review Manager US, FL, Fort Worth unknown...</td>\n",
       "      <td>bill review manager u fl fort worth unknown sp...</td>\n",
       "    </tr>\n",
       "  </tbody>\n",
       "</table>\n",
       "</div>"
      ],
      "text/plain": [
       "   telecommuting  has_company_logo  has_questions  fraudulent  \\\n",
       "0              0                 1              0           0   \n",
       "1              0                 1              0           0   \n",
       "2              0                 1              0           0   \n",
       "3              0                 1              0           0   \n",
       "4              0                 1              1           0   \n",
       "\n",
       "                                                text  \\\n",
       "0  Marketing Intern US, NY, New York Marketing We...   \n",
       "1  Customer Service - Cloud Video Production NZ, ...   \n",
       "2  Commissioning Machinery Assistant (CMA) US, IA...   \n",
       "3  Account Executive - Washington DC US, DC, Wash...   \n",
       "4  Bill Review Manager US, FL, Fort Worth unknown...   \n",
       "\n",
       "                                      text_processed  \n",
       "0  marketing intern u ny new york marketing creat...  \n",
       "1  customer service cloud video production nz auc...  \n",
       "2  commissioning machinery assistant cma u ia wev...  \n",
       "3  account executive washington dc u dc washingto...  \n",
       "4  bill review manager u fl fort worth unknown sp...  "
      ]
     },
     "execution_count": 11,
     "metadata": {},
     "output_type": "execute_result"
    }
   ],
   "source": [
    "df.head()"
   ]
  },
  {
   "cell_type": "code",
   "execution_count": 17,
   "id": "d28701aa",
   "metadata": {},
   "outputs": [],
   "source": [
    "# split into train/test sets using 20% for test\n",
    "# trainX: the training features, textX: the test features | trainy: the labels, testy: the labels for the test data\n",
    "trainX, testX, trainy, testy = train_test_split(df['text_processed'], df['fraudulent'], test_size = 0.2, random_state=0)"
   ]
  },
  {
   "cell_type": "code",
   "execution_count": 42,
   "id": "cb0175b5",
   "metadata": {},
   "outputs": [
    {
     "name": "stdout",
     "output_type": "stream",
     "text": [
      "Train set class distribution:\n",
      " fraudulent\n",
      "0    13591\n",
      "1      713\n",
      "Name: count, dtype: int64\n",
      "\n",
      "Train set class ratio (Not Fraudulent/Total): 0.950153803131991\n",
      "Train set class ratio (Fraudulent/Total): 0.04984619686800895\n"
     ]
    }
   ],
   "source": [
    "# report train set class distribution\n",
    "print(\"Train set class distribution:\\n\", pd.Series(trainy).value_counts())\n",
    "print(\"\\nTrain set class ratio (Not Fraudulent/Total):\", pd.Series(trainy).value_counts()[0] / len(trainy))\n",
    "print(\"Train set class ratio (Fraudulent/Total):\", pd.Series(trainy).value_counts()[1] / len(trainy))"
   ]
  },
  {
   "cell_type": "code",
   "execution_count": 41,
   "id": "55efb8f8",
   "metadata": {},
   "outputs": [
    {
     "name": "stdout",
     "output_type": "stream",
     "text": [
      "Test set class distribution:\n",
      " fraudulent\n",
      "0    3423\n",
      "1     153\n",
      "Name: count, dtype: int64\n",
      "\n",
      "Test set class ratio (Not Fradulent/Total): 0.9572147651006712\n",
      "Test set class ratio (Fraudulent/Total): 0.04278523489932886\n"
     ]
    }
   ],
   "source": [
    "# report test set class distribution\n",
    "print(\"Test set class distribution:\\n\", pd.Series(testy).value_counts())\n",
    "print(\"\\nTest set class ratio (Not Fradulent/Total):\", pd.Series(testy).value_counts()[0] / len(testy))\n",
    "print(\"Test set class ratio (Fraudulent/Total):\", pd.Series(testy).value_counts()[1] / len(testy))"
   ]
  },
  {
   "cell_type": "code",
   "execution_count": 24,
   "id": "df28e447",
   "metadata": {},
   "outputs": [],
   "source": [
    "# instantiate the vectorizer object\n",
    "# min_df, max_df just includes all the text, already removed stopwords at preprocess\n",
    "# ngram to pick up important phrases or patterns, (1,3) for like at most 3-words\n",
    "tfidf_vectorizer = TfidfVectorizer(min_df=0.0, max_df=1.0, ngram_range=(1,3))\n",
    "# convert the training set into a matrix.\n",
    "tfidf_train = tfidf_vectorizer.fit_transform(trainX)\n",
    "# convert the test set into a matrix.\n",
    "tfidf_test = tfidf_vectorizer.transform(testX)"
   ]
  },
  {
   "cell_type": "code",
   "execution_count": 27,
   "id": "919ef713",
   "metadata": {},
   "outputs": [
    {
     "name": "stdout",
     "output_type": "stream",
     "text": [
      "(14304, 2217449)\n",
      "(3576, 2217449)\n"
     ]
    }
   ],
   "source": [
    "print(tfidf_train.shape)\n",
    "print(tfidf_test.shape)"
   ]
  },
  {
   "cell_type": "code",
   "execution_count": null,
   "id": "bdcd99de",
   "metadata": {},
   "outputs": [],
   "source": [
    "# fix the imbalance issue with SMOTE\n",
    "# tfidf_train is your numerical feature matrix (X) after converting text to TF-IDF vectors — this is what your model will actually learn from.\n",
    "# trainy is your label vector (y) containing the class labels (fraudulent vs. not fraudulent).\n",
    "\n",
    "oversample = SMOTE()\n",
    "tfidf_train_resampled, trainy_resampled = oversample.fit_resample(tfidf_train, trainy)"
   ]
  },
  {
   "cell_type": "code",
   "execution_count": 38,
   "id": "3421053c",
   "metadata": {},
   "outputs": [
    {
     "data": {
      "image/png": "[encoded data removed]",
      "text/plain": [
       "<Figure size 640x480 with 1 Axes>"
      ]
     },
     "metadata": {},
     "output_type": "display_data"
    },
    {
     "name": "stdout",
     "output_type": "stream",
     "text": [
      "Before SMOTE:\n",
      " fraudulent\n",
      "0    13591\n",
      "1      713\n",
      "Name: count, dtype: int64\n"
     ]
    }
   ],
   "source": [
    "sns.countplot(x=trainy)\n",
    "plt.title(\"Class Distribution Before SMOTE (Training Set)\")\n",
    "plt.xlabel(\"Fraudulent (0 = Real, 1 = Fake)\")\n",
    "plt.show()\n",
    "print(\"Before SMOTE:\\n\", pd.Series(trainy).value_counts())"
   ]
  },
  {
   "cell_type": "code",
   "execution_count": null,
   "id": "e0a665b0",
   "metadata": {},
   "outputs": [
    {
     "data": {
      "image/png": "[encoded data removed]",
      "text/plain": [
       "<Figure size 640x480 with 1 Axes>"
      ]
     },
     "metadata": {},
     "output_type": "display_data"
    },
    {
     "name": "stdout",
     "output_type": "stream",
     "text": [
      "After SMOTE: fraudulent\n",
      "0    13591\n",
      "1    13591\n",
      "Name: count, dtype: int64\n"
     ]
    }
   ],
   "source": [
    "sns.countplot(x=trainy_resampled)\n",
    "plt.title(\"Class Distribution After SMOTE (Training Set)\")\n",
    "plt.xlabel(\"Fraudulent (0 = Real, 1 = Fake)\")\n",
    "plt.show()\n",
    "print(\"After SMOTE:\\n\", pd.Series(trainy_resampled).value_counts())"
   ]
  },
  {
   "cell_type": "code",
   "execution_count": null,
   "id": "4923bdfa",
   "metadata": {},
   "outputs": [],
   "source": [
    "# run logisitic regression on the training data\n",
    "logreg = LogisticRegression(random_state=0).fit(tfidf_train_resampled, trainy_resampled)"
   ]
  },
  {
   "cell_type": "code",
   "execution_count": null,
   "id": "ae2adf03",
   "metadata": {},
   "outputs": [],
   "source": [
    "# use the trained Logistic Regression model (logreg) to predict labels for the unseen test data (tfidf_test), and store the predicted labels in predict_test.\n",
    "predict_test = logreg.predict(tfidf_test)"
   ]
  },
  {
   "cell_type": "code",
   "execution_count": null,
   "id": "dee9631f",
   "metadata": {},
   "outputs": [
    {
     "name": "stdout",
     "output_type": "stream",
     "text": [
      "Accuracy 0.9823825503355704\n",
      "Precision score 0.774390243902439\n",
      "Recall score 0.8300653594771242\n",
      "F1 score 0.8012618296529969\n",
      "\n",
      "Confusion Matrix:\n",
      " [[3386   37]\n",
      " [  26  127]]\n"
     ]
    }
   ],
   "source": [
    "log_acc = accuracy_score(testy, predict_test)\n",
    "log_prec = precision_score(testy, predict_test)\n",
    "log_recall = recall_score(testy, predict_test)\n",
    "log_f1 = f1_score(testy, predict_test)\n",
    "\n",
    "# testy are the actual labels, predict_test are the predicted labels\n",
    "print(f\"Accuracy {accuracy_score(testy, predict_test)}\")\n",
    "print(f\"Precision score {precision_score(testy, predict_test)}\")\n",
    "print(f\"Recall score {recall_score(testy, predict_test)}\")\n",
    "print(f\"F1 score {f1_score(testy, predict_test)}\")\n",
    "\n",
    "print(f\"\\nConfusion Matrix:\\n\", confusion_matrix(testy, predict_test))"
   ]
  },
  {
   "cell_type": "code",
   "execution_count": null,
   "id": "73f1275f",
   "metadata": {},
   "outputs": [
    {
     "name": "stdout",
     "output_type": "stream",
     "text": [
      "Classification Report:\n",
      "              precision    recall  f1-score   support\n",
      "\n",
      "           0       0.99      0.99      0.99      3423\n",
      "           1       0.77      0.83      0.80       153\n",
      "\n",
      "    accuracy                           0.98      3576\n",
      "   macro avg       0.88      0.91      0.90      3576\n",
      "weighted avg       0.98      0.98      0.98      3576\n",
      "\n"
     ]
    }
   ],
   "source": [
    "# Class 0: Non-fradulent, Class 1: Fradulent | 3423 non-fraud, 153 fraud in test data \n",
    "# precision, recall, and f1-score all 0.99, its fine because its the majority class\n",
    "# precision: model predicts fraud for 78% of the time\n",
    "# recall: model finds 84% of all actual frauds\n",
    "# f1-score: the balance between precision and recall\n",
    "result = classification_report(testy, predict_test)\n",
    "print(\"Classification Report:\")\n",
    "print(result)"
   ]
  },
  {
   "cell_type": "code",
   "execution_count": null,
   "id": "adc7c4e1",
   "metadata": {},
   "outputs": [
    {
     "data": {
      "image/png": "[encoded data removed]",
      "text/plain": [
       "<Figure size 640x480 with 2 Axes>"
      ]
     },
     "metadata": {},
     "output_type": "display_data"
    }
   ],
   "source": [
    "# (TN) = 3386 - model correctly predicted non-fraudulent (0)\n",
    "# (FP) = 37 - model incorrectly predicted fraudulent when it was not\n",
    "# (FN) = 25 - model missed fraudulent cases (predicted 0 but was 1)\n",
    "# (TP) = 128 - model correctly predicted fraudulent\n",
    "disp = ConfusionMatrixDisplay(confusion_matrix=confusion_matrix(testy, predict_test, labels=logreg.classes_))\n",
    "disp.plot()\n",
    "plt.show()"
   ]
  },
  {
   "cell_type": "code",
   "execution_count": null,
   "id": "1c48ccd9-835a-4ff1-ba5a-ea980e6ef593",
   "metadata": {},
   "outputs": [],
   "source": [
    "\n",
    "import xgboost as xgb\n",
    "from xgboost import XGBClassifier\n",
    "from sklearn.metrics import accuracy_score, classification_report\n"
   ]
  },
  {
   "cell_type": "code",
   "execution_count": null,
   "id": "cdff0757-e490-4869-a94c-2c836565fbcf",
   "metadata": {},
   "outputs": [],
   "source": [
    "# initialize xgboost\n",
    "xgb_model = XGBClassifier(eval_metric='logloss')\n",
    "\n",
    "# fit the model\n",
    "# run on the training data\n",
    "xgb_model.fit(tfidf_train_resampled, trainy_resampled)\n",
    "\n",
    "# predict on the test set\n",
    "y_pred = xgb_model.predict(tfidf_test)\n"
   ]
  },
  {
   "cell_type": "code",
   "execution_count": null,
   "id": "0430ef6f-0199-45a3-91eb-ca96f98e5cb9",
   "metadata": {},
   "outputs": [
    {
     "name": "stdout",
     "output_type": "stream",
     "text": [
      "XGBoost Accuracy: 0.9846\n",
      "Classification Report:\n",
      "              precision    recall  f1-score   support\n",
      "\n",
      "           0       0.99      1.00      0.99      3423\n",
      "           1       0.90      0.72      0.80       153\n",
      "\n",
      "    accuracy                           0.98      3576\n",
      "   macro avg       0.94      0.86      0.90      3576\n",
      "weighted avg       0.98      0.98      0.98      3576\n",
      "\n"
     ]
    }
   ],
   "source": [
    "# accuracy\n",
    "xgb_acc = accuracy_score(testy, y_pred)\n",
    "xgb_prec = precision_score(testy, y_pred)\n",
    "xgb_recall = recall_score(testy, y_pred)\n",
    "xgb_f1 = f1_score(testy, y_pred)\n",
    "\n",
    "print(f\"XGBoost Accuracy: {xgb_acc:.4f}\")\n",
    "\n",
    "# classification report\n",
    "print(\"Classification Report:\")\n",
    "print(classification_report(testy, y_pred))\n"
   ]
  },
  {
   "cell_type": "code",
   "execution_count": null,
   "id": "8628d428-55d3-427d-90f9-4ad471dd7654",
   "metadata": {},
   "outputs": [
    {
     "name": "stdout",
     "output_type": "stream",
     "text": [
      "Top 10 important words/features:\n",
      "['encouraged', 'candidate encouraged', 'school equivalent', 'satisfaction', 'data entry', 'unknown unknown oil', 'secure', 'startup', 'amp insurance employee', 'exciting']\n"
     ]
    }
   ],
   "source": [
    "import numpy as np\n",
    "importance = xgb_model.feature_importances_\n",
    "nonzero_indices = np.where(importance > 0)[0]\n",
    "top_features = sorted(zip(nonzero_indices, importance[nonzero_indices]),\n",
    "                      key=lambda x: x[1], reverse=True)\n",
    "feature_names = tfidf_vectorizer.get_feature_names_out()\n",
    "top_feature_names = [feature_names[idx] for idx, _ in top_features[:10]]\n",
    "\n",
    "print(\"Top 10 important words/features:\") # doesn't suggest positive or negative, more about how much it help the model\n",
    "print(top_feature_names)\n",
    "\n",
    "\n"
   ]
  },
  {
   "cell_type": "code",
   "execution_count": null,
   "id": "6af94b8c-c40e-484b-bc71-0803ee9d0cdc",
   "metadata": {},
   "outputs": [
    {
     "name": "stdout",
     "output_type": "stream",
     "text": [
      "Top positive weights - predicting class 1 - fake:\n",
      "unknown unknown: 5.9815\n",
      "administrative: 5.9006\n",
      "unknown: 5.5459\n",
      "data entry: 4.1765\n",
      "entry: 4.1267\n",
      "oil: 3.3840\n",
      "assistant: 3.3644\n",
      "earn: 3.2547\n",
      "accion: 3.1927\n",
      "phone: 2.7883\n",
      "\n",
      "Top negative weights - predicting class 0 - real:\n",
      "team: -3.2291\n",
      "client: -3.2053\n",
      "web: -2.7771\n",
      "digital: -2.4853\n",
      "software: -2.3894\n",
      "medium: -2.3173\n",
      "marketing: -2.1462\n",
      "developer: -2.1167\n",
      "website: -2.0983\n",
      "mobile: -2.0727\n"
     ]
    }
   ],
   "source": [
    "logreg_coefficients = logreg.coef_[0]  # shape: (n_features,)\n",
    "feature_names = tfidf_vectorizer.get_feature_names_out()\n",
    "\n",
    "feature_coef_pairs = list(zip(feature_names, logreg_coefficients))\n",
    "\n",
    "# Sort by largest positive weight\n",
    "top_positive = sorted(feature_coef_pairs, key=lambda x: x[1], reverse=True)[:10]\n",
    "\n",
    "# Sort by largest negative weights\n",
    "top_negative = sorted(feature_coef_pairs, key=lambda x: x[1])[:10]\n",
    "\n",
    "print(\"Top positive weights - predicting class 1 - fake:\")\n",
    "for feature, weight in top_positive:\n",
    "    print(f\"{feature}: {weight:.4f}\")\n",
    "\n",
    "print(\"\\nTop negative weights - predicting class 0 - real:\")\n",
    "for feature, weight in top_negative:\n",
    "    print(f\"{feature}: {weight:.4f}\")\n"
   ]
  },
  {
   "cell_type": "code",
   "execution_count": null,
   "id": "f5b3fc3d-5562-4a71-8d9a-3fb117168cb3",
   "metadata": {},
   "outputs": [],
   "source": [
    "cls_models = [('Logistic Regression', log_acc, log_prec, log_recall,log_f1),('XGBoost', xgb_acc, xgb_prec, xgb_recall, xgb_f1),]"
   ]
  },
  {
   "cell_type": "code",
   "execution_count": null,
   "id": "635cb570",
   "metadata": {},
   "outputs": [
    {
     "data": {
      "text/html": [
       "<div>\n",
       "<style scoped>\n",
       "    .dataframe tbody tr th:only-of-type {\n",
       "        vertical-align: middle;\n",
       "    }\n",
       "\n",
       "    .dataframe tbody tr th {\n",
       "        vertical-align: top;\n",
       "    }\n",
       "\n",
       "    .dataframe thead th {\n",
       "        text-align: right;\n",
       "    }\n",
       "</style>\n",
       "<table border=\"1\" class=\"dataframe\">\n",
       "  <thead>\n",
       "    <tr style=\"text-align: right;\">\n",
       "      <th></th>\n",
       "      <th>Model</th>\n",
       "      <th>Accuracy</th>\n",
       "      <th>Precision</th>\n",
       "      <th>Recall</th>\n",
       "      <th>F1</th>\n",
       "    </tr>\n",
       "  </thead>\n",
       "  <tbody>\n",
       "    <tr>\n",
       "      <th>0</th>\n",
       "      <td>Logistic Regression</td>\n",
       "      <td>0.982383</td>\n",
       "      <td>0.774390</td>\n",
       "      <td>0.830065</td>\n",
       "      <td>0.801262</td>\n",
       "    </tr>\n",
       "    <tr>\n",
       "      <th>1</th>\n",
       "      <td>XGBoost</td>\n",
       "      <td>0.984620</td>\n",
       "      <td>0.901639</td>\n",
       "      <td>0.718954</td>\n",
       "      <td>0.800000</td>\n",
       "    </tr>\n",
       "  </tbody>\n",
       "</table>\n",
       "</div>"
      ],
      "text/plain": [
       "                 Model  Accuracy  Precision    Recall        F1\n",
       "0  Logistic Regression  0.982383   0.774390  0.830065  0.801262\n",
       "1              XGBoost  0.984620   0.901639  0.718954  0.800000"
      ]
     },
     "execution_count": 76,
     "metadata": {},
     "output_type": "execute_result"
    }
   ],
   "source": [
    "# show table to compare models' efficiency\n",
    "compare = pd.DataFrame(data = cls_models, columns=['Model', 'Accuracy', 'Precision' , 'Recall', 'F1'])\n",
    "compare"
   ]
  },
  {
   "cell_type": "code",
   "execution_count": null,
   "id": "a912dad1",
   "metadata": {},
   "outputs": [
    {
     "data": {
      "image/png": "[encoded data removed]",
      "text/plain": [
       "<Figure size 1000x600 with 1 Axes>"
      ]
     },
     "metadata": {},
     "output_type": "display_data"
    }
   ],
   "source": [
    "# Plot the bar chart\n",
    "compare.plot(kind='bar', figsize=(10, 6))\n",
    "\n",
    "# Customize plot\n",
    "plt.title('Model Performance Comparison')\n",
    "plt.ylabel('Score')\n",
    "plt.ylim(0, 1)  \n",
    "plt.xticks(rotation=45)\n",
    "plt.legend(loc='lower right')\n",
    "plt.tight_layout()\n",
    "plt.show()"
   ]
  }
 ],
 "metadata": {
  "kernelspec": {
   "display_name": "Python 3",
   "language": "python",
   "name": "python3"
  },
  "language_info": {
   "codemirror_mode": {
    "name": "ipython",
    "version": 3
   },
   "file_extension": ".py",
   "mimetype": "text/x-python",
   "name": "python",
   "nbconvert_exporter": "python",
   "pygments_lexer": "ipython3",
   "version": "3.10.11"
  }
 },
 "nbformat": 4,
 "nbformat_minor": 5
}
