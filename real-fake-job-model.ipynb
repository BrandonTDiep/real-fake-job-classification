{
 "cells": [
  {
   "cell_type": "markdown",
   "id": "0606ac21",
   "metadata": {},
   "source": [
    "# Real/Fake Job Posting "
   ]
  },
  {
   "cell_type": "markdown",
   "id": "759e2357",
   "metadata": {},
   "source": [
    "## 1. Library Imports"
   ]
  },
  {
   "cell_type": "code",
   "execution_count": 1,
   "id": "bbe4771f",
   "metadata": {},
   "outputs": [
    {
     "name": "stderr",
     "output_type": "stream",
     "text": [
      "[nltk_data] Downloading package punkt_tab to\n",
      "[nltk_data]     C:\\Users\\kceys\\AppData\\Roaming\\nltk_data...\n",
      "[nltk_data]   Package punkt_tab is already up-to-date!\n",
      "[nltk_data] Downloading package wordnet to\n",
      "[nltk_data]     C:\\Users\\kceys\\AppData\\Roaming\\nltk_data...\n",
      "[nltk_data]   Package wordnet is already up-to-date!\n"
     ]
    }
   ],
   "source": [
    "# data analysis imports\n",
    "import pandas as pd\n",
    "import seaborn as sns\n",
    "import matplotlib.pyplot as plt\n",
    "\n",
    "from sklearn.feature_extraction.text import TfidfVectorizer\n",
    "from sklearn.model_selection import train_test_split\n",
    "from sklearn.linear_model import LogisticRegression\n",
    "from sklearn.preprocessing import OneHotEncoder\n",
    "from sklearn.compose import ColumnTransformer\n",
    "from sklearn.pipeline import Pipeline\n",
    "from sklearn.impute import SimpleImputer\n",
    "from sklearn.metrics import accuracy_score, classification_report, confusion_matrix\n",
    "\n",
    "\n",
    "# preprocessing imports\n",
    "import nltk\n",
    "import string\n",
    "from nltk.corpus import stopwords\n",
    "from nltk.tokenize import word_tokenize\n",
    "from nltk.stem import WordNetLemmatizer\n",
    "nltk.download('punkt_tab')\n",
    "nltk.download('wordnet')\n",
    "\n",
    "#class imbalance imports\n",
    "from imblearn.over_sampling import SMOTE\n",
    "\n",
    "# read the fake job postings dataset\n",
    "df = pd.read_csv('fake_job_postings.csv')"
   ]
  },
  {
   "cell_type": "markdown",
   "id": "94f51eb4",
   "metadata": {},
   "source": [
    "## 2. Data Exploration"
   ]
  },
  {
   "cell_type": "code",
   "execution_count": 2,
   "id": "f285d23b",
   "metadata": {},
   "outputs": [
    {
     "data": {
      "text/html": [
       "<div>\n",
       "<style scoped>\n",
       "    .dataframe tbody tr th:only-of-type {\n",
       "        vertical-align: middle;\n",
       "    }\n",
       "\n",
       "    .dataframe tbody tr th {\n",
       "        vertical-align: top;\n",
       "    }\n",
       "\n",
       "    .dataframe thead th {\n",
       "        text-align: right;\n",
       "    }\n",
       "</style>\n",
       "<table border=\"1\" class=\"dataframe\">\n",
       "  <thead>\n",
       "    <tr style=\"text-align: right;\">\n",
       "      <th></th>\n",
       "      <th>job_id</th>\n",
       "      <th>telecommuting</th>\n",
       "      <th>has_company_logo</th>\n",
       "      <th>has_questions</th>\n",
       "      <th>fraudulent</th>\n",
       "    </tr>\n",
       "  </thead>\n",
       "  <tbody>\n",
       "    <tr>\n",
       "      <th>count</th>\n",
       "      <td>17880.000000</td>\n",
       "      <td>17880.000000</td>\n",
       "      <td>17880.000000</td>\n",
       "      <td>17880.000000</td>\n",
       "      <td>17880.000000</td>\n",
       "    </tr>\n",
       "    <tr>\n",
       "      <th>mean</th>\n",
       "      <td>8940.500000</td>\n",
       "      <td>0.042897</td>\n",
       "      <td>0.795302</td>\n",
       "      <td>0.491723</td>\n",
       "      <td>0.048434</td>\n",
       "    </tr>\n",
       "    <tr>\n",
       "      <th>std</th>\n",
       "      <td>5161.655742</td>\n",
       "      <td>0.202631</td>\n",
       "      <td>0.403492</td>\n",
       "      <td>0.499945</td>\n",
       "      <td>0.214688</td>\n",
       "    </tr>\n",
       "    <tr>\n",
       "      <th>min</th>\n",
       "      <td>1.000000</td>\n",
       "      <td>0.000000</td>\n",
       "      <td>0.000000</td>\n",
       "      <td>0.000000</td>\n",
       "      <td>0.000000</td>\n",
       "    </tr>\n",
       "    <tr>\n",
       "      <th>25%</th>\n",
       "      <td>4470.750000</td>\n",
       "      <td>0.000000</td>\n",
       "      <td>1.000000</td>\n",
       "      <td>0.000000</td>\n",
       "      <td>0.000000</td>\n",
       "    </tr>\n",
       "    <tr>\n",
       "      <th>50%</th>\n",
       "      <td>8940.500000</td>\n",
       "      <td>0.000000</td>\n",
       "      <td>1.000000</td>\n",
       "      <td>0.000000</td>\n",
       "      <td>0.000000</td>\n",
       "    </tr>\n",
       "    <tr>\n",
       "      <th>75%</th>\n",
       "      <td>13410.250000</td>\n",
       "      <td>0.000000</td>\n",
       "      <td>1.000000</td>\n",
       "      <td>1.000000</td>\n",
       "      <td>0.000000</td>\n",
       "    </tr>\n",
       "    <tr>\n",
       "      <th>max</th>\n",
       "      <td>17880.000000</td>\n",
       "      <td>1.000000</td>\n",
       "      <td>1.000000</td>\n",
       "      <td>1.000000</td>\n",
       "      <td>1.000000</td>\n",
       "    </tr>\n",
       "  </tbody>\n",
       "</table>\n",
       "</div>"
      ],
      "text/plain": [
       "             job_id  telecommuting  has_company_logo  has_questions  \\\n",
       "count  17880.000000   17880.000000      17880.000000   17880.000000   \n",
       "mean    8940.500000       0.042897          0.795302       0.491723   \n",
       "std     5161.655742       0.202631          0.403492       0.499945   \n",
       "min        1.000000       0.000000          0.000000       0.000000   \n",
       "25%     4470.750000       0.000000          1.000000       0.000000   \n",
       "50%     8940.500000       0.000000          1.000000       0.000000   \n",
       "75%    13410.250000       0.000000          1.000000       1.000000   \n",
       "max    17880.000000       1.000000          1.000000       1.000000   \n",
       "\n",
       "         fraudulent  \n",
       "count  17880.000000  \n",
       "mean       0.048434  \n",
       "std        0.214688  \n",
       "min        0.000000  \n",
       "25%        0.000000  \n",
       "50%        0.000000  \n",
       "75%        0.000000  \n",
       "max        1.000000  "
      ]
     },
     "execution_count": 2,
     "metadata": {},
     "output_type": "execute_result"
    }
   ],
   "source": [
    "# returns the first 5 rows\n",
    "df.head()\n",
    "\n",
    "# describes the numerical features of our dataset\n",
    "df.describe()"
   ]
  },
  {
   "cell_type": "markdown",
   "id": "3aeacac2",
   "metadata": {},
   "source": [
    "## 3. Handling missing values"
   ]
  },
  {
   "cell_type": "code",
   "execution_count": 3,
   "id": "3cf46a3d",
   "metadata": {},
   "outputs": [],
   "source": [
    "#Finding the total number of missing values for each feature\n",
    "df.isna().sum()\n",
    "\n",
    "columns = ['job_id', 'salary_range']\n",
    "for col in columns:\n",
    "    del df[col]\n",
    "\n",
    "# Fill the 'NaN' fields in our dataset to avoid errors when dealing with TF-IDF or our models\n",
    "df.fillna('unknown', inplace=True)"
   ]
  },
  {
   "cell_type": "markdown",
   "id": "b26501a1",
   "metadata": {},
   "source": [
    "## 4. Handling Duplicates"
   ]
  },
  {
   "cell_type": "code",
   "execution_count": 4,
   "id": "1b3ccda6",
   "metadata": {},
   "outputs": [
    {
     "data": {
      "text/plain": [
       "np.int64(288)"
      ]
     },
     "execution_count": 4,
     "metadata": {},
     "output_type": "execute_result"
    }
   ],
   "source": [
    "# check for duplicates\n",
    "# no duplicates, so no need to handle them\n",
    "df.duplicated().sum()"
   ]
  },
  {
   "cell_type": "markdown",
   "id": "ef29b13f",
   "metadata": {},
   "source": [
    "## 5. Identifying Class Imbalance"
   ]
  },
  {
   "cell_type": "code",
   "execution_count": 5,
   "id": "255ad103",
   "metadata": {},
   "outputs": [
    {
     "data": {
      "text/plain": [
       "Text(0.5, 0, 'Fradulent (0 = No, 1 = Yes)')"
      ]
     },
     "execution_count": 5,
     "metadata": {},
     "output_type": "execute_result"
    },
    {
     "data": {
      "image/png": "[encoded data removed]",
      "text/plain": [
       "<Figure size 640x480 with 1 Axes>"
      ]
     },
     "metadata": {},
     "output_type": "display_data"
    }
   ],
   "source": [
    "# plot bar chat for rows that are fraudulent\n",
    "# dataset is imbalanced, will fix soon\n",
    "sns.countplot(x='fraudulent', data=df)\n",
    "df['fraudulent'].value_counts()\n",
    "x_label = \"Fradulent (0 = No, 1 = Yes)\"\n",
    "plt.xlabel(x_label)\n"
   ]
  },
  {
   "cell_type": "markdown",
   "id": "c40922e0",
   "metadata": {},
   "source": [
    "## 6. Cleaning Text"
   ]
  },
  {
   "cell_type": "code",
   "execution_count": 6,
   "id": "24abc5ab",
   "metadata": {},
   "outputs": [
    {
     "data": {
      "text/html": [
       "<div>\n",
       "<style scoped>\n",
       "    .dataframe tbody tr th:only-of-type {\n",
       "        vertical-align: middle;\n",
       "    }\n",
       "\n",
       "    .dataframe tbody tr th {\n",
       "        vertical-align: top;\n",
       "    }\n",
       "\n",
       "    .dataframe thead th {\n",
       "        text-align: right;\n",
       "    }\n",
       "</style>\n",
       "<table border=\"1\" class=\"dataframe\">\n",
       "  <thead>\n",
       "    <tr style=\"text-align: right;\">\n",
       "      <th></th>\n",
       "      <th>telecommuting</th>\n",
       "      <th>has_company_logo</th>\n",
       "      <th>has_questions</th>\n",
       "      <th>employment_type</th>\n",
       "      <th>required_experience</th>\n",
       "      <th>required_education</th>\n",
       "      <th>industry</th>\n",
       "      <th>function</th>\n",
       "      <th>fraudulent</th>\n",
       "      <th>text_processed</th>\n",
       "    </tr>\n",
       "  </thead>\n",
       "  <tbody>\n",
       "    <tr>\n",
       "      <th>0</th>\n",
       "      <td>0</td>\n",
       "      <td>1</td>\n",
       "      <td>0</td>\n",
       "      <td>Other</td>\n",
       "      <td>Internship</td>\n",
       "      <td>unknown</td>\n",
       "      <td>unknown</td>\n",
       "      <td>Marketing</td>\n",
       "      <td>0</td>\n",
       "      <td>marketing intern u ny new york marketing creat...</td>\n",
       "    </tr>\n",
       "    <tr>\n",
       "      <th>1</th>\n",
       "      <td>0</td>\n",
       "      <td>1</td>\n",
       "      <td>0</td>\n",
       "      <td>Full-time</td>\n",
       "      <td>Not Applicable</td>\n",
       "      <td>unknown</td>\n",
       "      <td>Marketing and Advertising</td>\n",
       "      <td>Customer Service</td>\n",
       "      <td>0</td>\n",
       "      <td>customer service cloud video production nz auc...</td>\n",
       "    </tr>\n",
       "    <tr>\n",
       "      <th>2</th>\n",
       "      <td>0</td>\n",
       "      <td>1</td>\n",
       "      <td>0</td>\n",
       "      <td>unknown</td>\n",
       "      <td>unknown</td>\n",
       "      <td>unknown</td>\n",
       "      <td>unknown</td>\n",
       "      <td>unknown</td>\n",
       "      <td>0</td>\n",
       "      <td>commissioning machinery assistant cma u ia wev...</td>\n",
       "    </tr>\n",
       "    <tr>\n",
       "      <th>3</th>\n",
       "      <td>0</td>\n",
       "      <td>1</td>\n",
       "      <td>0</td>\n",
       "      <td>Full-time</td>\n",
       "      <td>Mid-Senior level</td>\n",
       "      <td>Bachelor's Degree</td>\n",
       "      <td>Computer Software</td>\n",
       "      <td>Sales</td>\n",
       "      <td>0</td>\n",
       "      <td>account executive washington dc u dc washingto...</td>\n",
       "    </tr>\n",
       "    <tr>\n",
       "      <th>4</th>\n",
       "      <td>0</td>\n",
       "      <td>1</td>\n",
       "      <td>1</td>\n",
       "      <td>Full-time</td>\n",
       "      <td>Mid-Senior level</td>\n",
       "      <td>Bachelor's Degree</td>\n",
       "      <td>Hospital &amp; Health Care</td>\n",
       "      <td>Health Care Provider</td>\n",
       "      <td>0</td>\n",
       "      <td>bill review manager u fl fort worth unknown sp...</td>\n",
       "    </tr>\n",
       "    <tr>\n",
       "      <th>...</th>\n",
       "      <td>...</td>\n",
       "      <td>...</td>\n",
       "      <td>...</td>\n",
       "      <td>...</td>\n",
       "      <td>...</td>\n",
       "      <td>...</td>\n",
       "      <td>...</td>\n",
       "      <td>...</td>\n",
       "      <td>...</td>\n",
       "      <td>...</td>\n",
       "    </tr>\n",
       "    <tr>\n",
       "      <th>17875</th>\n",
       "      <td>0</td>\n",
       "      <td>1</td>\n",
       "      <td>1</td>\n",
       "      <td>Full-time</td>\n",
       "      <td>Mid-Senior level</td>\n",
       "      <td>unknown</td>\n",
       "      <td>Computer Software</td>\n",
       "      <td>Sales</td>\n",
       "      <td>0</td>\n",
       "      <td>account director distribution ca toronto sale ...</td>\n",
       "    </tr>\n",
       "    <tr>\n",
       "      <th>17876</th>\n",
       "      <td>0</td>\n",
       "      <td>1</td>\n",
       "      <td>1</td>\n",
       "      <td>Full-time</td>\n",
       "      <td>Mid-Senior level</td>\n",
       "      <td>Bachelor's Degree</td>\n",
       "      <td>Internet</td>\n",
       "      <td>Accounting/Auditing</td>\n",
       "      <td>0</td>\n",
       "      <td>payroll accountant u pa philadelphia accountin...</td>\n",
       "    </tr>\n",
       "    <tr>\n",
       "      <th>17877</th>\n",
       "      <td>0</td>\n",
       "      <td>0</td>\n",
       "      <td>0</td>\n",
       "      <td>Full-time</td>\n",
       "      <td>unknown</td>\n",
       "      <td>unknown</td>\n",
       "      <td>unknown</td>\n",
       "      <td>unknown</td>\n",
       "      <td>0</td>\n",
       "      <td>project cost control staff engineer cost contr...</td>\n",
       "    </tr>\n",
       "    <tr>\n",
       "      <th>17878</th>\n",
       "      <td>0</td>\n",
       "      <td>0</td>\n",
       "      <td>1</td>\n",
       "      <td>Contract</td>\n",
       "      <td>Not Applicable</td>\n",
       "      <td>Professional</td>\n",
       "      <td>Graphic Design</td>\n",
       "      <td>Design</td>\n",
       "      <td>0</td>\n",
       "      <td>graphic designer ng la lagos unknown unknown n...</td>\n",
       "    </tr>\n",
       "    <tr>\n",
       "      <th>17879</th>\n",
       "      <td>0</td>\n",
       "      <td>1</td>\n",
       "      <td>1</td>\n",
       "      <td>Full-time</td>\n",
       "      <td>Mid-Senior level</td>\n",
       "      <td>unknown</td>\n",
       "      <td>Computer Software</td>\n",
       "      <td>Engineering</td>\n",
       "      <td>0</td>\n",
       "      <td>web application developer nz n wellington engi...</td>\n",
       "    </tr>\n",
       "  </tbody>\n",
       "</table>\n",
       "<p>17880 rows × 10 columns</p>\n",
       "</div>"
      ],
      "text/plain": [
       "       telecommuting  has_company_logo  has_questions employment_type  \\\n",
       "0                  0                 1              0           Other   \n",
       "1                  0                 1              0       Full-time   \n",
       "2                  0                 1              0         unknown   \n",
       "3                  0                 1              0       Full-time   \n",
       "4                  0                 1              1       Full-time   \n",
       "...              ...               ...            ...             ...   \n",
       "17875              0                 1              1       Full-time   \n",
       "17876              0                 1              1       Full-time   \n",
       "17877              0                 0              0       Full-time   \n",
       "17878              0                 0              1        Contract   \n",
       "17879              0                 1              1       Full-time   \n",
       "\n",
       "      required_experience required_education                   industry  \\\n",
       "0              Internship            unknown                    unknown   \n",
       "1          Not Applicable            unknown  Marketing and Advertising   \n",
       "2                 unknown            unknown                    unknown   \n",
       "3        Mid-Senior level  Bachelor's Degree          Computer Software   \n",
       "4        Mid-Senior level  Bachelor's Degree     Hospital & Health Care   \n",
       "...                   ...                ...                        ...   \n",
       "17875    Mid-Senior level            unknown          Computer Software   \n",
       "17876    Mid-Senior level  Bachelor's Degree                   Internet   \n",
       "17877             unknown            unknown                    unknown   \n",
       "17878      Not Applicable       Professional             Graphic Design   \n",
       "17879    Mid-Senior level            unknown          Computer Software   \n",
       "\n",
       "                   function  fraudulent  \\\n",
       "0                 Marketing           0   \n",
       "1          Customer Service           0   \n",
       "2                   unknown           0   \n",
       "3                     Sales           0   \n",
       "4      Health Care Provider           0   \n",
       "...                     ...         ...   \n",
       "17875                 Sales           0   \n",
       "17876   Accounting/Auditing           0   \n",
       "17877               unknown           0   \n",
       "17878                Design           0   \n",
       "17879           Engineering           0   \n",
       "\n",
       "                                          text_processed  \n",
       "0      marketing intern u ny new york marketing creat...  \n",
       "1      customer service cloud video production nz auc...  \n",
       "2      commissioning machinery assistant cma u ia wev...  \n",
       "3      account executive washington dc u dc washingto...  \n",
       "4      bill review manager u fl fort worth unknown sp...  \n",
       "...                                                  ...  \n",
       "17875  account director distribution ca toronto sale ...  \n",
       "17876  payroll accountant u pa philadelphia accountin...  \n",
       "17877  project cost control staff engineer cost contr...  \n",
       "17878  graphic designer ng la lagos unknown unknown n...  \n",
       "17879  web application developer nz n wellington engi...  \n",
       "\n",
       "[17880 rows x 10 columns]"
      ]
     },
     "execution_count": 6,
     "metadata": {},
     "output_type": "execute_result"
    }
   ],
   "source": [
    "# generate stop words to clean our text\n",
    "stop_words = set(stopwords.words('english'))\n",
    "\n",
    "# add the punctuation list to the set of stop words\n",
    "punctuation = list(string.punctuation)\n",
    "stop_words.update(punctuation)\n",
    "\n",
    "# initialize our lemmatizer\n",
    "lemmatizer = WordNetLemmatizer()\n",
    "\n",
    "def preprocess_text(text):\n",
    "    '''\n",
    "    Uses stopwords and lemmatizing to clean the text\n",
    "     \n",
    "    Parameters\n",
    "    ----------\n",
    "    text: the combined text of all our features\n",
    "    '''\n",
    "\n",
    "    # tokenize the text\n",
    "    tokens = word_tokenize(text.lower())\n",
    "    # Remove stop words and non-alphabetic tokens and lemmantize\n",
    "    tokens = [lemmatizer.lemmatize(token) for token in tokens if token.isalpha() and token not in stop_words]\n",
    "\n",
    "    return ' '.join(tokens)\n",
    "\n",
    "\n",
    "#List of feature columns to clean\n",
    "feature_list = [ 'title', 'location', 'department', 'company_profile', 'description', 'requirements', 'benefits']\n",
    "\n",
    "for column in feature_list:\n",
    "    df[column] = df[column].apply(preprocess_text)\n",
    "\n",
    "df['text_processed'] = df['title'] + ' ' + df['location'] + ' ' + df['department'] + ' ' + df['company_profile'] + ' ' + df['description'] + ' ' + df['requirements'] + ' ' + df['benefits']\n",
    "\n",
    "df.drop(columns = ['title', 'location', 'department', 'company_profile', 'description', 'requirements', 'benefits'])\n"
   ]
  },
  {
   "cell_type": "markdown",
   "id": "0bb30961",
   "metadata": {},
   "source": [
    "## 7. Seperating features by type"
   ]
  },
  {
   "cell_type": "code",
   "execution_count": 7,
   "id": "d28701aa",
   "metadata": {},
   "outputs": [],
   "source": [
    "textual_columns = 'text_processed'\n",
    "numerical_columns = ['telecommuting', 'has_company_logo', 'has_questions']\n",
    "categorical_columns = ['employment_type', 'required_experience', 'required_education', 'industry', 'function']\n",
    "\n"
   ]
  },
  {
   "cell_type": "code",
   "execution_count": 8,
   "id": "df28e447",
   "metadata": {},
   "outputs": [],
   "source": [
    "# Define transformations\n",
    "text_transformer = TfidfVectorizer(max_features=1000, stop_words='english')\n",
    "cat_transformer = Pipeline([\n",
    "    ('onehot', OneHotEncoder(handle_unknown='ignore'))\n",
    "])\n",
    "\n",
    "# Combine everything\n",
    "preprocessor = ColumnTransformer(\n",
    "    transformers=[\n",
    "        ('text', text_transformer, textual_columns),\n",
    "        ('cat', cat_transformer, categorical_columns),\n",
    "        ('num', 'passthrough', numerical_columns)\n",
    "    ]\n",
    ")"
   ]
  },
  {
   "cell_type": "markdown",
   "id": "303e0e0b",
   "metadata": {},
   "source": [
    "## 8. Train/Test Split"
   ]
  },
  {
   "cell_type": "code",
   "execution_count": 9,
   "id": "cd23d69a",
   "metadata": {},
   "outputs": [],
   "source": [
    "# Split data\n",
    "X = df[[textual_columns] + categorical_columns + numerical_columns]\n",
    "y = df['fraudulent']\n",
    "X_train, X_test, y_train, y_test = train_test_split(X, y, test_size=0.2, random_state=0, stratify=y)\n",
    "\n",
    "# Fit the preprocessor\n",
    "X_train_transformed = preprocessor.fit_transform(X_train)\n",
    "X_test_transformed = preprocessor.transform(X_test)"
   ]
  },
  {
   "cell_type": "markdown",
   "id": "f1a0aadf",
   "metadata": {},
   "source": [
    "## 9. Handling class imbalance"
   ]
  },
  {
   "cell_type": "code",
   "execution_count": 10,
   "id": "e3876613",
   "metadata": {},
   "outputs": [
    {
     "data": {
      "image/png": "[encoded data removed]",
      "text/plain": [
       "<Figure size 640x480 with 1 Axes>"
      ]
     },
     "metadata": {},
     "output_type": "display_data"
    }
   ],
   "source": [
    "smote = SMOTE(random_state=10, k_neighbors = 3, sampling_strategy = 'minority')\n",
    "X_train_resampled, y_train_resampled = smote.fit_resample(X_train_transformed, y_train)\n",
    "\n",
    "sns.countplot(x=y_train_resampled)\n",
    "plt.title(\"Class Distribution After SMOTE (Training Set)\")\n",
    "plt.xlabel(\"Fraudulent (0 = Real, 1 = Fake)\")\n",
    "plt.show()"
   ]
  },
  {
   "cell_type": "code",
   "execution_count": 11,
   "id": "768bfaa3",
   "metadata": {},
   "outputs": [
    {
     "name": "stdout",
     "output_type": "stream",
     "text": [
      " Accuracy on test set: 0.9566554809843401\n",
      "\n",
      " Classification Report:\n",
      "               precision    recall  f1-score   support\n",
      "\n",
      "           0       0.99      0.96      0.98      3403\n",
      "           1       0.53      0.87      0.66       173\n",
      "\n",
      "    accuracy                           0.96      3576\n",
      "   macro avg       0.76      0.92      0.82      3576\n",
      "weighted avg       0.97      0.96      0.96      3576\n",
      "\n"
     ]
    }
   ],
   "source": [
    "# Initialize and train the logistic regression model\n",
    "model = LogisticRegression(max_iter=1000)\n",
    "model.fit(X_train_resampled, y_train_resampled)\n",
    "\n",
    "# Predict on test set\n",
    "y_pred = model.predict(X_test_transformed)\n",
    "\n",
    "# Evaluate\n",
    "print(\" Accuracy on test set:\", accuracy_score(y_test, y_pred))\n",
    "print(\"\\n Classification Report:\\n\", classification_report(y_test, y_pred))"
   ]
  }
 ],
 "metadata": {
  "kernelspec": {
   "display_name": "Python 3",
   "language": "python",
   "name": "python3"
  },
  "language_info": {
   "codemirror_mode": {
    "name": "ipython",
    "version": 3
   },
   "file_extension": ".py",
   "mimetype": "text/x-python",
   "name": "python",
   "nbconvert_exporter": "python",
   "pygments_lexer": "ipython3",
   "version": "3.13.1"
  }
 },
 "nbformat": 4,
 "nbformat_minor": 5
}
